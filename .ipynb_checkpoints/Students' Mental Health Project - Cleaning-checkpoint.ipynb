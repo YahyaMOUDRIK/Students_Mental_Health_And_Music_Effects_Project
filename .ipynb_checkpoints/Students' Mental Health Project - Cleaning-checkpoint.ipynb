{
 "cells": [
  {
   "cell_type": "markdown",
   "id": "9e2aaa93",
   "metadata": {},
   "source": [
    "# Discovering Data"
   ]
  },
  {
   "cell_type": "code",
   "execution_count": 2,
   "id": "44ab1fe1",
   "metadata": {},
   "outputs": [],
   "source": [
    "#Importing necessary libraries\n",
    "import numpy as np\n",
    "import pandas as pd\n",
    "import matplotlib.pyplot as plt\n",
    "import seaborn as sns"
   ]
  },
  {
   "cell_type": "code",
   "execution_count": 3,
   "id": "1a27fed5",
   "metadata": {},
   "outputs": [],
   "source": [
    "#Reading the data\n",
    "df1 = pd.read_csv(\"Student Mental health.csv\")\n",
    "df2 = pd.read_csv(\"mxmh_survey_results.csv\")"
   ]
  },
  {
   "cell_type": "code",
   "execution_count": 4,
   "id": "eb7f6b72",
   "metadata": {},
   "outputs": [
    {
     "name": "stdout",
     "output_type": "stream",
     "text": [
      "The shape of df1:  (101, 11)\n",
      "The shape of df2:  (736, 33)\n"
     ]
    }
   ],
   "source": [
    "#Information about the shape of the data\n",
    "print('The shape of df1: ', df1.shape)\n",
    "print('The shape of df2: ', df2.shape)"
   ]
  },
  {
   "cell_type": "code",
   "execution_count": 5,
   "id": "d0f3fbe2",
   "metadata": {
    "scrolled": true
   },
   "outputs": [
    {
     "data": {
      "text/html": [
       "<div>\n",
       "<style scoped>\n",
       "    .dataframe tbody tr th:only-of-type {\n",
       "        vertical-align: middle;\n",
       "    }\n",
       "\n",
       "    .dataframe tbody tr th {\n",
       "        vertical-align: top;\n",
       "    }\n",
       "\n",
       "    .dataframe thead th {\n",
       "        text-align: right;\n",
       "    }\n",
       "</style>\n",
       "<table border=\"1\" class=\"dataframe\">\n",
       "  <thead>\n",
       "    <tr style=\"text-align: right;\">\n",
       "      <th></th>\n",
       "      <th>Timestamp</th>\n",
       "      <th>Choose your gender</th>\n",
       "      <th>Age</th>\n",
       "      <th>What is your course?</th>\n",
       "      <th>Your current year of Study</th>\n",
       "      <th>What is your CGPA?</th>\n",
       "      <th>Marital status</th>\n",
       "      <th>Do you have Depression?</th>\n",
       "      <th>Do you have Anxiety?</th>\n",
       "      <th>Do you have Panic attack?</th>\n",
       "      <th>Did you seek any specialist for a treatment?</th>\n",
       "    </tr>\n",
       "  </thead>\n",
       "  <tbody>\n",
       "    <tr>\n",
       "      <th>0</th>\n",
       "      <td>8/7/2020 12:02</td>\n",
       "      <td>Female</td>\n",
       "      <td>18.0</td>\n",
       "      <td>Engineering</td>\n",
       "      <td>year 1</td>\n",
       "      <td>3.00 - 3.49</td>\n",
       "      <td>No</td>\n",
       "      <td>Yes</td>\n",
       "      <td>No</td>\n",
       "      <td>Yes</td>\n",
       "      <td>No</td>\n",
       "    </tr>\n",
       "    <tr>\n",
       "      <th>1</th>\n",
       "      <td>8/7/2020 12:04</td>\n",
       "      <td>Male</td>\n",
       "      <td>21.0</td>\n",
       "      <td>Islamic education</td>\n",
       "      <td>year 2</td>\n",
       "      <td>3.00 - 3.49</td>\n",
       "      <td>No</td>\n",
       "      <td>No</td>\n",
       "      <td>Yes</td>\n",
       "      <td>No</td>\n",
       "      <td>No</td>\n",
       "    </tr>\n",
       "    <tr>\n",
       "      <th>2</th>\n",
       "      <td>8/7/2020 12:05</td>\n",
       "      <td>Male</td>\n",
       "      <td>19.0</td>\n",
       "      <td>BIT</td>\n",
       "      <td>Year 1</td>\n",
       "      <td>3.00 - 3.49</td>\n",
       "      <td>No</td>\n",
       "      <td>Yes</td>\n",
       "      <td>Yes</td>\n",
       "      <td>Yes</td>\n",
       "      <td>No</td>\n",
       "    </tr>\n",
       "    <tr>\n",
       "      <th>3</th>\n",
       "      <td>8/7/2020 12:06</td>\n",
       "      <td>Female</td>\n",
       "      <td>22.0</td>\n",
       "      <td>Laws</td>\n",
       "      <td>year 3</td>\n",
       "      <td>3.00 - 3.49</td>\n",
       "      <td>Yes</td>\n",
       "      <td>Yes</td>\n",
       "      <td>No</td>\n",
       "      <td>No</td>\n",
       "      <td>No</td>\n",
       "    </tr>\n",
       "    <tr>\n",
       "      <th>4</th>\n",
       "      <td>8/7/2020 12:13</td>\n",
       "      <td>Male</td>\n",
       "      <td>23.0</td>\n",
       "      <td>Mathemathics</td>\n",
       "      <td>year 4</td>\n",
       "      <td>3.00 - 3.49</td>\n",
       "      <td>No</td>\n",
       "      <td>No</td>\n",
       "      <td>No</td>\n",
       "      <td>No</td>\n",
       "      <td>No</td>\n",
       "    </tr>\n",
       "  </tbody>\n",
       "</table>\n",
       "</div>"
      ],
      "text/plain": [
       "        Timestamp Choose your gender   Age What is your course?  \\\n",
       "0  8/7/2020 12:02             Female  18.0          Engineering   \n",
       "1  8/7/2020 12:04               Male  21.0    Islamic education   \n",
       "2  8/7/2020 12:05               Male  19.0                  BIT   \n",
       "3  8/7/2020 12:06             Female  22.0                 Laws   \n",
       "4  8/7/2020 12:13               Male  23.0         Mathemathics   \n",
       "\n",
       "  Your current year of Study What is your CGPA? Marital status  \\\n",
       "0                     year 1        3.00 - 3.49             No   \n",
       "1                     year 2        3.00 - 3.49             No   \n",
       "2                     Year 1        3.00 - 3.49             No   \n",
       "3                     year 3        3.00 - 3.49            Yes   \n",
       "4                     year 4        3.00 - 3.49             No   \n",
       "\n",
       "  Do you have Depression? Do you have Anxiety? Do you have Panic attack?  \\\n",
       "0                     Yes                   No                       Yes   \n",
       "1                      No                  Yes                        No   \n",
       "2                     Yes                  Yes                       Yes   \n",
       "3                     Yes                   No                        No   \n",
       "4                      No                   No                        No   \n",
       "\n",
       "  Did you seek any specialist for a treatment?  \n",
       "0                                           No  \n",
       "1                                           No  \n",
       "2                                           No  \n",
       "3                                           No  \n",
       "4                                           No  "
      ]
     },
     "execution_count": 5,
     "metadata": {},
     "output_type": "execute_result"
    }
   ],
   "source": [
    "df1.head()"
   ]
  },
  {
   "cell_type": "code",
   "execution_count": 6,
   "id": "2d97dce7",
   "metadata": {
    "scrolled": true
   },
   "outputs": [
    {
     "data": {
      "text/html": [
       "<div>\n",
       "<style scoped>\n",
       "    .dataframe tbody tr th:only-of-type {\n",
       "        vertical-align: middle;\n",
       "    }\n",
       "\n",
       "    .dataframe tbody tr th {\n",
       "        vertical-align: top;\n",
       "    }\n",
       "\n",
       "    .dataframe thead th {\n",
       "        text-align: right;\n",
       "    }\n",
       "</style>\n",
       "<table border=\"1\" class=\"dataframe\">\n",
       "  <thead>\n",
       "    <tr style=\"text-align: right;\">\n",
       "      <th></th>\n",
       "      <th>Timestamp</th>\n",
       "      <th>Age</th>\n",
       "      <th>Primary streaming service</th>\n",
       "      <th>Hours per day</th>\n",
       "      <th>While working</th>\n",
       "      <th>Instrumentalist</th>\n",
       "      <th>Composer</th>\n",
       "      <th>Fav genre</th>\n",
       "      <th>Exploratory</th>\n",
       "      <th>Foreign languages</th>\n",
       "      <th>...</th>\n",
       "      <th>Frequency [R&amp;B]</th>\n",
       "      <th>Frequency [Rap]</th>\n",
       "      <th>Frequency [Rock]</th>\n",
       "      <th>Frequency [Video game music]</th>\n",
       "      <th>Anxiety</th>\n",
       "      <th>Depression</th>\n",
       "      <th>Insomnia</th>\n",
       "      <th>OCD</th>\n",
       "      <th>Music effects</th>\n",
       "      <th>Permissions</th>\n",
       "    </tr>\n",
       "  </thead>\n",
       "  <tbody>\n",
       "    <tr>\n",
       "      <th>0</th>\n",
       "      <td>8/27/2022 19:29:02</td>\n",
       "      <td>18.0</td>\n",
       "      <td>Spotify</td>\n",
       "      <td>3.0</td>\n",
       "      <td>Yes</td>\n",
       "      <td>Yes</td>\n",
       "      <td>Yes</td>\n",
       "      <td>Latin</td>\n",
       "      <td>Yes</td>\n",
       "      <td>Yes</td>\n",
       "      <td>...</td>\n",
       "      <td>Sometimes</td>\n",
       "      <td>Very frequently</td>\n",
       "      <td>Never</td>\n",
       "      <td>Sometimes</td>\n",
       "      <td>3.0</td>\n",
       "      <td>0.0</td>\n",
       "      <td>1.0</td>\n",
       "      <td>0.0</td>\n",
       "      <td>NaN</td>\n",
       "      <td>I understand.</td>\n",
       "    </tr>\n",
       "    <tr>\n",
       "      <th>1</th>\n",
       "      <td>8/27/2022 19:57:31</td>\n",
       "      <td>63.0</td>\n",
       "      <td>Pandora</td>\n",
       "      <td>1.5</td>\n",
       "      <td>Yes</td>\n",
       "      <td>No</td>\n",
       "      <td>No</td>\n",
       "      <td>Rock</td>\n",
       "      <td>Yes</td>\n",
       "      <td>No</td>\n",
       "      <td>...</td>\n",
       "      <td>Sometimes</td>\n",
       "      <td>Rarely</td>\n",
       "      <td>Very frequently</td>\n",
       "      <td>Rarely</td>\n",
       "      <td>7.0</td>\n",
       "      <td>2.0</td>\n",
       "      <td>2.0</td>\n",
       "      <td>1.0</td>\n",
       "      <td>NaN</td>\n",
       "      <td>I understand.</td>\n",
       "    </tr>\n",
       "    <tr>\n",
       "      <th>2</th>\n",
       "      <td>8/27/2022 21:28:18</td>\n",
       "      <td>18.0</td>\n",
       "      <td>Spotify</td>\n",
       "      <td>4.0</td>\n",
       "      <td>No</td>\n",
       "      <td>No</td>\n",
       "      <td>No</td>\n",
       "      <td>Video game music</td>\n",
       "      <td>No</td>\n",
       "      <td>Yes</td>\n",
       "      <td>...</td>\n",
       "      <td>Never</td>\n",
       "      <td>Rarely</td>\n",
       "      <td>Rarely</td>\n",
       "      <td>Very frequently</td>\n",
       "      <td>7.0</td>\n",
       "      <td>7.0</td>\n",
       "      <td>10.0</td>\n",
       "      <td>2.0</td>\n",
       "      <td>No effect</td>\n",
       "      <td>I understand.</td>\n",
       "    </tr>\n",
       "    <tr>\n",
       "      <th>3</th>\n",
       "      <td>8/27/2022 21:40:40</td>\n",
       "      <td>61.0</td>\n",
       "      <td>YouTube Music</td>\n",
       "      <td>2.5</td>\n",
       "      <td>Yes</td>\n",
       "      <td>No</td>\n",
       "      <td>Yes</td>\n",
       "      <td>Jazz</td>\n",
       "      <td>Yes</td>\n",
       "      <td>Yes</td>\n",
       "      <td>...</td>\n",
       "      <td>Sometimes</td>\n",
       "      <td>Never</td>\n",
       "      <td>Never</td>\n",
       "      <td>Never</td>\n",
       "      <td>9.0</td>\n",
       "      <td>7.0</td>\n",
       "      <td>3.0</td>\n",
       "      <td>3.0</td>\n",
       "      <td>Improve</td>\n",
       "      <td>I understand.</td>\n",
       "    </tr>\n",
       "    <tr>\n",
       "      <th>4</th>\n",
       "      <td>8/27/2022 21:54:47</td>\n",
       "      <td>18.0</td>\n",
       "      <td>Spotify</td>\n",
       "      <td>4.0</td>\n",
       "      <td>Yes</td>\n",
       "      <td>No</td>\n",
       "      <td>No</td>\n",
       "      <td>R&amp;B</td>\n",
       "      <td>Yes</td>\n",
       "      <td>No</td>\n",
       "      <td>...</td>\n",
       "      <td>Very frequently</td>\n",
       "      <td>Very frequently</td>\n",
       "      <td>Never</td>\n",
       "      <td>Rarely</td>\n",
       "      <td>7.0</td>\n",
       "      <td>2.0</td>\n",
       "      <td>5.0</td>\n",
       "      <td>9.0</td>\n",
       "      <td>Improve</td>\n",
       "      <td>I understand.</td>\n",
       "    </tr>\n",
       "  </tbody>\n",
       "</table>\n",
       "<p>5 rows × 33 columns</p>\n",
       "</div>"
      ],
      "text/plain": [
       "            Timestamp   Age Primary streaming service  Hours per day  \\\n",
       "0  8/27/2022 19:29:02  18.0                   Spotify            3.0   \n",
       "1  8/27/2022 19:57:31  63.0                   Pandora            1.5   \n",
       "2  8/27/2022 21:28:18  18.0                   Spotify            4.0   \n",
       "3  8/27/2022 21:40:40  61.0             YouTube Music            2.5   \n",
       "4  8/27/2022 21:54:47  18.0                   Spotify            4.0   \n",
       "\n",
       "  While working Instrumentalist Composer         Fav genre Exploratory  \\\n",
       "0           Yes             Yes      Yes             Latin         Yes   \n",
       "1           Yes              No       No              Rock         Yes   \n",
       "2            No              No       No  Video game music          No   \n",
       "3           Yes              No      Yes              Jazz         Yes   \n",
       "4           Yes              No       No               R&B         Yes   \n",
       "\n",
       "  Foreign languages  ...  Frequency [R&B]  Frequency [Rap] Frequency [Rock]  \\\n",
       "0               Yes  ...        Sometimes  Very frequently            Never   \n",
       "1                No  ...        Sometimes           Rarely  Very frequently   \n",
       "2               Yes  ...            Never           Rarely           Rarely   \n",
       "3               Yes  ...        Sometimes            Never            Never   \n",
       "4                No  ...  Very frequently  Very frequently            Never   \n",
       "\n",
       "  Frequency [Video game music] Anxiety Depression Insomnia  OCD Music effects  \\\n",
       "0                    Sometimes     3.0        0.0      1.0  0.0           NaN   \n",
       "1                       Rarely     7.0        2.0      2.0  1.0           NaN   \n",
       "2              Very frequently     7.0        7.0     10.0  2.0     No effect   \n",
       "3                        Never     9.0        7.0      3.0  3.0       Improve   \n",
       "4                       Rarely     7.0        2.0      5.0  9.0       Improve   \n",
       "\n",
       "     Permissions  \n",
       "0  I understand.  \n",
       "1  I understand.  \n",
       "2  I understand.  \n",
       "3  I understand.  \n",
       "4  I understand.  \n",
       "\n",
       "[5 rows x 33 columns]"
      ]
     },
     "execution_count": 6,
     "metadata": {},
     "output_type": "execute_result"
    }
   ],
   "source": [
    "df2.head()"
   ]
  },
  {
   "cell_type": "markdown",
   "id": "09556af5",
   "metadata": {},
   "source": [
    "*The timestamp represents the time when the participants filled out the survey. So I'll delete it when cleaning the data*"
   ]
  },
  {
   "cell_type": "code",
   "execution_count": 7,
   "id": "a94cc61b",
   "metadata": {},
   "outputs": [
    {
     "data": {
      "text/plain": [
       "Index(['Timestamp', 'Choose your gender', 'Age', 'What is your course?',\n",
       "       'Your current year of Study', 'What is your CGPA?', 'Marital status',\n",
       "       'Do you have Depression?', 'Do you have Anxiety?',\n",
       "       'Do you have Panic attack?',\n",
       "       'Did you seek any specialist for a treatment?'],\n",
       "      dtype='object')"
      ]
     },
     "execution_count": 7,
     "metadata": {},
     "output_type": "execute_result"
    }
   ],
   "source": [
    "df1.columns"
   ]
  },
  {
   "cell_type": "markdown",
   "id": "04253091",
   "metadata": {},
   "source": [
    "*The column names represent questions from the survey, and they can be modified to be more meaningful.*"
   ]
  },
  {
   "cell_type": "code",
   "execution_count": 18,
   "id": "b4ee72e0",
   "metadata": {},
   "outputs": [
    {
     "data": {
      "text/plain": [
       "Index(['Timestamp', 'Age', 'Primary streaming service', 'Hours per day',\n",
       "       'While working', 'Instrumentalist', 'Composer', 'Fav genre',\n",
       "       'Exploratory', 'Foreign languages', 'BPM', 'Frequency [Classical]',\n",
       "       'Frequency [Country]', 'Frequency [EDM]', 'Frequency [Folk]',\n",
       "       'Frequency [Gospel]', 'Frequency [Hip hop]', 'Frequency [Jazz]',\n",
       "       'Frequency [K pop]', 'Frequency [Latin]', 'Frequency [Lofi]',\n",
       "       'Frequency [Metal]', 'Frequency [Pop]', 'Frequency [R&B]',\n",
       "       'Frequency [Rap]', 'Frequency [Rock]', 'Frequency [Video game music]',\n",
       "       'Anxiety', 'Depression', 'Insomnia', 'OCD', 'Music effects',\n",
       "       'Permissions'],\n",
       "      dtype='object')"
      ]
     },
     "execution_count": 18,
     "metadata": {},
     "output_type": "execute_result"
    }
   ],
   "source": [
    "df2.columns"
   ]
  },
  {
   "cell_type": "code",
   "execution_count": 8,
   "id": "b35576fc",
   "metadata": {},
   "outputs": [
    {
     "name": "stdout",
     "output_type": "stream",
     "text": [
      "<class 'pandas.core.frame.DataFrame'>\n",
      "RangeIndex: 101 entries, 0 to 100\n",
      "Data columns (total 11 columns):\n",
      " #   Column                                        Non-Null Count  Dtype  \n",
      "---  ------                                        --------------  -----  \n",
      " 0   Timestamp                                     101 non-null    object \n",
      " 1   Choose your gender                            101 non-null    object \n",
      " 2   Age                                           100 non-null    float64\n",
      " 3   What is your course?                          101 non-null    object \n",
      " 4   Your current year of Study                    101 non-null    object \n",
      " 5   What is your CGPA?                            101 non-null    object \n",
      " 6   Marital status                                101 non-null    object \n",
      " 7   Do you have Depression?                       101 non-null    object \n",
      " 8   Do you have Anxiety?                          101 non-null    object \n",
      " 9   Do you have Panic attack?                     101 non-null    object \n",
      " 10  Did you seek any specialist for a treatment?  101 non-null    object \n",
      "dtypes: float64(1), object(10)\n",
      "memory usage: 8.8+ KB\n"
     ]
    }
   ],
   "source": [
    "#See information about df1\n",
    "df1.info()"
   ]
  },
  {
   "cell_type": "markdown",
   "id": "80113502",
   "metadata": {},
   "source": [
    "*We can see that there is one missing data in the age column.\n",
    "There is also a problem with the types of some columns such as the CGPA column that is considred as an object*"
   ]
  },
  {
   "cell_type": "code",
   "execution_count": 9,
   "id": "47935259",
   "metadata": {},
   "outputs": [
    {
     "name": "stdout",
     "output_type": "stream",
     "text": [
      "<class 'pandas.core.frame.DataFrame'>\n",
      "RangeIndex: 736 entries, 0 to 735\n",
      "Data columns (total 33 columns):\n",
      " #   Column                        Non-Null Count  Dtype  \n",
      "---  ------                        --------------  -----  \n",
      " 0   Timestamp                     736 non-null    object \n",
      " 1   Age                           735 non-null    float64\n",
      " 2   Primary streaming service     735 non-null    object \n",
      " 3   Hours per day                 736 non-null    float64\n",
      " 4   While working                 733 non-null    object \n",
      " 5   Instrumentalist               732 non-null    object \n",
      " 6   Composer                      735 non-null    object \n",
      " 7   Fav genre                     736 non-null    object \n",
      " 8   Exploratory                   736 non-null    object \n",
      " 9   Foreign languages             732 non-null    object \n",
      " 10  BPM                           629 non-null    float64\n",
      " 11  Frequency [Classical]         736 non-null    object \n",
      " 12  Frequency [Country]           736 non-null    object \n",
      " 13  Frequency [EDM]               736 non-null    object \n",
      " 14  Frequency [Folk]              736 non-null    object \n",
      " 15  Frequency [Gospel]            736 non-null    object \n",
      " 16  Frequency [Hip hop]           736 non-null    object \n",
      " 17  Frequency [Jazz]              736 non-null    object \n",
      " 18  Frequency [K pop]             736 non-null    object \n",
      " 19  Frequency [Latin]             736 non-null    object \n",
      " 20  Frequency [Lofi]              736 non-null    object \n",
      " 21  Frequency [Metal]             736 non-null    object \n",
      " 22  Frequency [Pop]               736 non-null    object \n",
      " 23  Frequency [R&B]               736 non-null    object \n",
      " 24  Frequency [Rap]               736 non-null    object \n",
      " 25  Frequency [Rock]              736 non-null    object \n",
      " 26  Frequency [Video game music]  736 non-null    object \n",
      " 27  Anxiety                       736 non-null    float64\n",
      " 28  Depression                    736 non-null    float64\n",
      " 29  Insomnia                      736 non-null    float64\n",
      " 30  OCD                           736 non-null    float64\n",
      " 31  Music effects                 728 non-null    object \n",
      " 32  Permissions                   736 non-null    object \n",
      "dtypes: float64(7), object(26)\n",
      "memory usage: 189.9+ KB\n"
     ]
    }
   ],
   "source": [
    "#See information about df2\n",
    "df2.info()"
   ]
  },
  {
   "cell_type": "code",
   "execution_count": 19,
   "id": "1fe28bab",
   "metadata": {},
   "outputs": [
    {
     "name": "stdout",
     "output_type": "stream",
     "text": [
      "df1:\n",
      "----------------------\n",
      "Timestamp                                       0.00\n",
      "Choose your gender                              0.00\n",
      "Age                                             0.99\n",
      "What is your course?                            0.00\n",
      "Your current year of Study                      0.00\n",
      "What is your CGPA?                              0.00\n",
      "Marital status                                  0.00\n",
      "Do you have Depression?                         0.00\n",
      "Do you have Anxiety?                            0.00\n",
      "Do you have Panic attack?                       0.00\n",
      "Did you seek any specialist for a treatment?    0.00\n",
      "dtype: float64\n",
      "\n",
      "df2:\n",
      "----------------------\n",
      "Timestamp                        0.00\n",
      "Age                              0.14\n",
      "Primary streaming service        0.14\n",
      "Hours per day                    0.00\n",
      "While working                    0.41\n",
      "Instrumentalist                  0.54\n",
      "Composer                         0.14\n",
      "Fav genre                        0.00\n",
      "Exploratory                      0.00\n",
      "Foreign languages                0.54\n",
      "BPM                             14.54\n",
      "Frequency [Classical]            0.00\n",
      "Frequency [Country]              0.00\n",
      "Frequency [EDM]                  0.00\n",
      "Frequency [Folk]                 0.00\n",
      "Frequency [Gospel]               0.00\n",
      "Frequency [Hip hop]              0.00\n",
      "Frequency [Jazz]                 0.00\n",
      "Frequency [K pop]                0.00\n",
      "Frequency [Latin]                0.00\n",
      "Frequency [Lofi]                 0.00\n",
      "Frequency [Metal]                0.00\n",
      "Frequency [Pop]                  0.00\n",
      "Frequency [R&B]                  0.00\n",
      "Frequency [Rap]                  0.00\n",
      "Frequency [Rock]                 0.00\n",
      "Frequency [Video game music]     0.00\n",
      "Anxiety                          0.00\n",
      "Depression                       0.00\n",
      "Insomnia                         0.00\n",
      "OCD                              0.00\n",
      "Music effects                    1.09\n",
      "Permissions                      0.00\n",
      "dtype: float64\n"
     ]
    }
   ],
   "source": [
    "#What's the percentage of null values in df1 and df2?\n",
    "print('df1:\\n----------------------')\n",
    "print((df1.isnull().sum()*100/df1.shape[0]).round(2))\n",
    "print('\\ndf2:\\n----------------------')\n",
    "print((df2.isnull().sum()*100/df2.shape[0]).round(2))"
   ]
  },
  {
   "cell_type": "markdown",
   "id": "b2233b77",
   "metadata": {},
   "source": [
    "*We can see that there are many missing values, especially in df2, particularly in the \"BPM\" column.*"
   ]
  },
  {
   "cell_type": "code",
   "execution_count": 35,
   "id": "0d393d3f",
   "metadata": {},
   "outputs": [
    {
     "name": "stdout",
     "output_type": "stream",
     "text": [
      "df1:\n",
      "\n",
      "Age    24.0\n",
      "dtype: float64\n",
      "\n",
      "-------------------\n",
      "df2:\n",
      "\n",
      "Age                     89.0\n",
      "Hours per day           24.0\n",
      "BPM              999999999.0\n",
      "Anxiety                 10.0\n",
      "Depression              10.0\n",
      "Insomnia                10.0\n",
      "OCD                     10.0\n",
      "dtype: float64\n"
     ]
    }
   ],
   "source": [
    "#Look at max values in df1 and df2:\n",
    "print(\"df1:\\n\")\n",
    "print(df1.select_dtypes(include = 'number').max())\n",
    "print('\\n-------------------')\n",
    "print(\"df2:\\n\")\n",
    "print(df2.select_dtypes(include = 'number').max())"
   ]
  },
  {
   "cell_type": "markdown",
   "id": "369074cd",
   "metadata": {},
   "source": [
    "*We can see that there is an issue with the max value of BPM since  999999999.0 is not a possible value for the BPM.\n",
    "We can also see that the ages are different and as in this project we are only studying students we will limit the age to 24 years*"
   ]
  },
  {
   "cell_type": "code",
   "execution_count": 20,
   "id": "65c3b931",
   "metadata": {},
   "outputs": [
    {
     "data": {
      "text/plain": [
       "year 1    41\n",
       "Year 3    19\n",
       "Year 2    16\n",
       "year 2    10\n",
       "year 4     8\n",
       "year 3     5\n",
       "Year 1     2\n",
       "Name: Your current year of Study, dtype: int64"
      ]
     },
     "execution_count": 20,
     "metadata": {},
     "output_type": "execute_result"
    }
   ],
   "source": [
    "#Look at the values of the columns of df1\n",
    "df1['Your current year of Study'].value_counts()"
   ]
  },
  {
   "cell_type": "markdown",
   "id": "f9f82320",
   "metadata": {},
   "source": [
    "*We can see that the years are written in different formats*"
   ]
  },
  {
   "cell_type": "code",
   "execution_count": 22,
   "id": "ccab633a",
   "metadata": {},
   "outputs": [
    {
     "data": {
      "text/plain": [
       "Female    75\n",
       "Male      26\n",
       "Name: Choose your gender, dtype: int64"
      ]
     },
     "execution_count": 22,
     "metadata": {},
     "output_type": "execute_result"
    }
   ],
   "source": [
    "df1[\"Choose your gender\"].value_counts()"
   ]
  },
  {
   "cell_type": "code",
   "execution_count": 23,
   "id": "0ff7341d",
   "metadata": {},
   "outputs": [
    {
     "data": {
      "text/plain": [
       "BCS                        18\n",
       "Engineering                17\n",
       "BIT                        10\n",
       "Biomedical science          4\n",
       "KOE                         4\n",
       "BENL                        2\n",
       "Laws                        2\n",
       "psychology                  2\n",
       "Engine                      2\n",
       "Islamic Education           1\n",
       "Biotechnology               1\n",
       "engin                       1\n",
       "Econs                       1\n",
       "MHSC                        1\n",
       "Malcom                      1\n",
       "Kop                         1\n",
       "Human Sciences              1\n",
       "Communication               1\n",
       "Nursing                     1\n",
       "Diploma Nursing             1\n",
       "IT                          1\n",
       "Pendidikan Islam            1\n",
       "Radiography                 1\n",
       "Fiqh fatwa                  1\n",
       "DIPLOMA TESL                1\n",
       "Koe                         1\n",
       "Fiqh                        1\n",
       "CTS                         1\n",
       "koe                         1\n",
       "Benl                        1\n",
       "Kirkhs                      1\n",
       "Mathemathics                1\n",
       "Pendidikan islam            1\n",
       "Human Resources             1\n",
       "Irkhs                       1\n",
       "Psychology                  1\n",
       "KENMS                       1\n",
       "Accounting                  1\n",
       "ENM                         1\n",
       "Marine science              1\n",
       "Banking Studies             1\n",
       "Business Administration     1\n",
       "Law                         1\n",
       "KIRKHS                      1\n",
       "Usuluddin                   1\n",
       "TAASL                       1\n",
       "ALA                         1\n",
       "Islamic education           1\n",
       "Pendidikan Islam            1\n",
       "Name: What is your course?, dtype: int64"
      ]
     },
     "execution_count": 23,
     "metadata": {},
     "output_type": "execute_result"
    }
   ],
   "source": [
    "df1['What is your course?'].value_counts()"
   ]
  },
  {
   "cell_type": "markdown",
   "id": "7c63b137",
   "metadata": {},
   "source": [
    "*We can see that there are some repeated courses in different formats such as `Engineering` and `engin`*"
   ]
  },
  {
   "cell_type": "code",
   "execution_count": 26,
   "id": "20b8d7d4",
   "metadata": {},
   "outputs": [
    {
     "name": "stdout",
     "output_type": "stream",
     "text": [
      "No     85\n",
      "Yes    16\n",
      "Name: Marital status, dtype: int64\n",
      "---------------\n",
      "\n",
      "No     66\n",
      "Yes    35\n",
      "Name: Do you have Depression?, dtype: int64\n",
      "---------------\n",
      "\n",
      "No     67\n",
      "Yes    34\n",
      "Name: Do you have Anxiety?, dtype: int64\n",
      "---------------\n",
      "\n",
      "No     68\n",
      "Yes    33\n",
      "Name: Do you have Panic attack?, dtype: int64\n",
      "---------------\n",
      "\n",
      "No     95\n",
      "Yes     6\n",
      "Name: Did you seek any specialist for a treatment?, dtype: int64\n",
      "---------------\n",
      "\n"
     ]
    }
   ],
   "source": [
    "columns = ['Marital status',\n",
    "       'Do you have Depression?', 'Do you have Anxiety?',\n",
    "       'Do you have Panic attack?',\n",
    "       'Did you seek any specialist for a treatment?']\n",
    "for column in columns :\n",
    "    print(df1[column].value_counts())\n",
    "    print('---------------\\n')"
   ]
  },
  {
   "cell_type": "code",
   "execution_count": 27,
   "id": "c75a23dd",
   "metadata": {},
   "outputs": [
    {
     "data": {
      "text/plain": [
       "Spotify                              458\n",
       "YouTube Music                         94\n",
       "I do not use a streaming service.     71\n",
       "Apple Music                           51\n",
       "Other streaming service               50\n",
       "Pandora                               11\n",
       "Name: Primary streaming service, dtype: int64"
      ]
     },
     "execution_count": 27,
     "metadata": {},
     "output_type": "execute_result"
    }
   ],
   "source": [
    "#Look at the values of the columns of df2\n",
    "df2['Primary streaming service'].value_counts()"
   ]
  },
  {
   "cell_type": "markdown",
   "id": "f06f76e7",
   "metadata": {},
   "source": [
    "*The `I do not use a streaming service` seems too long we'll try to modify to another simpler value such as `None`,\n",
    "same thing for `Other streaming service` we can modify to simply `Other`*"
   ]
  },
  {
   "cell_type": "code",
   "execution_count": 30,
   "id": "abf56c2d",
   "metadata": {},
   "outputs": [
    {
     "data": {
      "text/plain": [
       "120.0    45\n",
       "140.0    25\n",
       "150.0    18\n",
       "110.0    16\n",
       "105.0    15\n",
       "         ..\n",
       "181.0     1\n",
       "106.0     1\n",
       "191.0     1\n",
       "40.0      1\n",
       "168.0     1\n",
       "Name: BPM, Length: 135, dtype: int64"
      ]
     },
     "execution_count": 30,
     "metadata": {},
     "output_type": "execute_result"
    }
   ],
   "source": [
    "df2.BPM.value_counts()"
   ]
  },
  {
   "cell_type": "code",
   "execution_count": 36,
   "id": "838c2ca4",
   "metadata": {},
   "outputs": [
    {
     "data": {
      "text/plain": [
       "Improve      542\n",
       "No effect    169\n",
       "Worsen        17\n",
       "Name: Music effects, dtype: int64"
      ]
     },
     "execution_count": 36,
     "metadata": {},
     "output_type": "execute_result"
    }
   ],
   "source": [
    "df2['Music effects'].value_counts()"
   ]
  },
  {
   "cell_type": "code",
   "execution_count": 38,
   "id": "ac5f0d6f",
   "metadata": {},
   "outputs": [
    {
     "data": {
      "text/plain": [
       "I understand.    736\n",
       "Name: Permissions, dtype: int64"
      ]
     },
     "execution_count": 38,
     "metadata": {},
     "output_type": "execute_result"
    }
   ],
   "source": [
    "df2['Permissions'].value_counts()"
   ]
  },
  {
   "cell_type": "markdown",
   "id": "b4e4f3fb",
   "metadata": {},
   "source": [
    "*Since the column `Permissions` only contains the value `I understand`, it likely pertains to participants granting permission for data use. Therefore, I will drop this column.*"
   ]
  },
  {
   "cell_type": "markdown",
   "id": "4ca46b60",
   "metadata": {},
   "source": [
    "# Cleaning the data\n",
    "### df1\n",
    "###### Changes that need to be done:\n",
    "\n",
    "1. **Drop Column: Timestamp**\n",
    "   \n",
    "   I will remove the \"Timestamp\" column since it's not relevant to our analysis.\n",
    "\n",
    "2. **Change Column Names**\n",
    "\n",
    "   I will update the column names for clarity and consistency.\n",
    "\n",
    "3. **Fill Missing Values of Age with Mean**\n",
    "   \n",
    "   Any missing values in the \"Age\" column will be filled with the mean age of participants.\n",
    "\n",
    "4. **Change Year Column Format**\n",
    "   \n",
    "   I will modify the format of the \"Year\" column to retain only the numerical representation of the year.\n",
    "\n",
    "5. **Change Course Names**\n",
    "   \n",
    "   The course names will be revised to ensure clarity and eliminate any repetitions.\n",
    "---\n",
    "### df2\n",
    "###### Changes that need to be done:\n",
    "\n",
    "1. **Drop Columns: Timestamp, Permissions**\n",
    "\n",
    "2. **Fill Null Values**\n",
    "\n",
    "   - **Age**: Missing values in the \"Age\" column will be filled with the mean age of participants.\n",
    "   - **Streaming Services**: Null values will be replaced with the most used service, which is Spotify.\n",
    "   - **While Working, Instrumentalist, Composer, Foreign Languages, Music Effects**: These columns will be filled with \"No\", assuming that this is what participants by ignoring filling this information.\n",
    "   - **BPM**: Missing BPM values will be replaced with the mean BPM for each genre.\n",
    "\n",
    "3. **Replace Values**\n",
    "\n",
    "   - **999999999.0**: This value will be replaced with the mean of the corresponding genre.\n",
    "   - **'I do not use a streaming service'**: This value will be replaced with \"None\".\n",
    "   - **'Other streaming service'**: This value will be simplified to \"Other\".\n",
    "\n"
   ]
  },
  {
   "cell_type": "code",
   "execution_count": null,
   "id": "43bc6c63",
   "metadata": {},
   "outputs": [],
   "source": []
  }
 ],
 "metadata": {
  "kernelspec": {
   "display_name": "Python 3 (ipykernel)",
   "language": "python",
   "name": "python3"
  },
  "language_info": {
   "codemirror_mode": {
    "name": "ipython",
    "version": 3
   },
   "file_extension": ".py",
   "mimetype": "text/x-python",
   "name": "python",
   "nbconvert_exporter": "python",
   "pygments_lexer": "ipython3",
   "version": "3.11.4"
  }
 },
 "nbformat": 4,
 "nbformat_minor": 5
}
